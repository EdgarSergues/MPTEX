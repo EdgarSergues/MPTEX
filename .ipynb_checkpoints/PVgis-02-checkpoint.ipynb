{
 "cells": [
  {
   "cell_type": "code",
   "execution_count": 28,
   "id": "b604b30d-f003-4b8a-99e8-2c59547c2ee8",
   "metadata": {},
   "outputs": [],
   "source": [
    "import os, csv, json, requests\n",
    "import glob\n",
    "import pycountry\n",
    "import pandas as pd\n",
    "import numpy as np\n",
    "from datetime import date\n",
    "import pickle"
   ]
  },
  {
   "cell_type": "code",
   "execution_count": 62,
   "id": "22e53aa8-74d7-4f9a-9d31-65b7f490b4af",
   "metadata": {},
   "outputs": [],
   "source": [
    "with open(r\"pv_detailsSSP2-RCP19-2050.pickle\", \"rb\") as input_file:\n",
    "        pv_pickle = pickle.load(input_file)\n",
    "\n",
    "url_api = \"https://re.jrc.ec.europa.eu/api/v5_2/PVcalc?\"\n",
    "\n",
    "coord = pd.read_csv(\"coordinates.csv\")"
   ]
  },
  {
   "cell_type": "code",
   "execution_count": 25,
   "id": "ba203952-49c0-45e3-baa6-164f2d05da2b",
   "metadata": {
    "scrolled": true
   },
   "outputs": [],
   "source": [
    "# Nominal power of the PV system, in kW. 1kWp / m²\n",
    "# peakpower\n",
    "\n",
    "# PVgis technology. Choices are: \"crystSi\", \"CIS\", \"CdTe\" and \"Unknown\"\n",
    "# pvtechchoice\n",
    "# Ecoinvent technology : \"single-Si\", \"multi-Si\", \"a-Si\", \"ribbon-Si\", \"CIS\", \"CdTe\"\n",
    "\n",
    "# Type of mounting of the PV modules are: \"free\" for free-standing and \"building\" for building-integrated.\n",
    "# mountingplace\n",
    "# Ecoinvent mounting : \"facade\"-\"flat-roof\"-\"slanted-roof\" = building, \"open ground\" = free\n",
    "\n",
    "# Inclination angle from horizontal plane of the (fixed) PV system.\n",
    "# angle\n",
    "# Ecoinvent inclination : \"facade\" = 90°, \"-roof\" = 0°, \"open ground\" = no value\n",
    "\n",
    "# Calculate the optimum inclination AND orientation angles. Value of 1 for \"yes\". All other values (or no value) mean \"no\".\n",
    "# optimalinclination\n",
    "# Ecoinvent : \"open ground\" = 1, no value for others"
   ]
  },
  {
   "cell_type": "code",
   "execution_count": 31,
   "id": "9ab8def1-4167-4c93-8147-e41e3e3a15ac",
   "metadata": {
    "scrolled": true
   },
   "outputs": [],
   "source": [
    "iRow = 0\n",
    "\n",
    "peakpower = pv_pickle.iloc[iRow][\"Peak power (kWp)\"]\n",
    "\n",
    "Tech_pickle = pv_pickle.iloc[iRow][\"Technology\"]\n",
    "pvtechchoice = (\"crystSi\" if \"Si\" in Tech_pickle\n",
    "                    else \"CIS\" if peakpower == \"CIS\"\n",
    "                    else \"CdTe\" if peakpower == \"CdTe\"\n",
    "                    else \"Unknown\")\n",
    "\n",
    "Mounting_pickle = pv_pickle.iloc[iRow][\"Installation\"]\n",
    "mountingplace = (\"building\" if \"roof\" or \"facade\" in Mounting_pickle\n",
    "                    else \"free\")\n",
    "\n",
    "angle = (\"0\" if \"roof\" in Mounting_pickle\n",
    "                    else \"90\" if \"facade\" in Mounting_pickle\n",
    "                    else \"\")\n",
    "\n",
    "optimalinclination = (\"1\" if \"open ground\" in Mounting_pickle\n",
    "                    else \"\")\n",
    "p1 = \"&peakpower=\"\n",
    "p2 = \"&pvtechchoice=\"\n",
    "p3 = \"&mountingplace=\"\n",
    "p4 = \"&angle=\"\n",
    "p5 = \"&optimalinclination=\"\n",
    "mp = \"&loss=14&outputformat=json\""
   ]
  },
  {
   "cell_type": "code",
   "execution_count": 88,
   "id": "2a2f1205-b575-475c-8cec-2944390ff2a3",
   "metadata": {
    "scrolled": true
   },
   "outputs": [
    {
     "name": "stdout",
     "output_type": "stream",
     "text": [
      "La moyenne des valeurs E_y_value est : 2321.025357142857\n"
     ]
    }
   ],
   "source": [
    "market_region = premise_ds.iloc[iRow][\"Market group location\"]\n",
    "\n",
    "coordonnees_region = coord.loc[coord['Short name'] == market_region, ['Latitude', 'Longitude']]\n",
    "#coordonnees_region\n",
    "E_y_values_list = []\n",
    "\n",
    "for index, row in coordonnees_region.iterrows():\n",
    "    # Extraire les valeurs de latitude et de longitude de la ligne actuelle\n",
    "    lat = \"lat=\"+\"{:.2f}\".format(row['Latitude'])+\"&\"\n",
    "    lon = \"lon=\"+\"{:.2f}\".format(row['Longitude'])\n",
    "    url_test = base_url_coord+lat+lon+p1+str(peakpower)+p2+pvtechchoice+p3+mountingplace+p4+angle+p5+optimalinclination+mp\n",
    "    # print(url_test)\n",
    "    response_test = requests.get(url_test)\n",
    "    # print(response_test)\n",
    "    jsondata_test = response_test.json()\n",
    "    if response_test.status_code == 200:\n",
    "        # print(\"Success\")\n",
    "        jsondata_test = response_test.json()\n",
    "        # Stocker la valeur E_y_value dans la liste\n",
    "        E_y_values_list.append(jsondata_test[\"outputs\"][\"totals\"][\"fixed\"][\"E_y\"])\n",
    "\n",
    "# Créer un DataFrame à partir de la liste des valeurs E_y_value\n",
    "E_y_df = pd.DataFrame({'E_y_value': E_y_values_list})\n",
    "\n",
    "# Calculer la moyenne des valeurs E_y_value\n",
    "moyenne_E_y = E_y_df['E_y_value'].mean()\n",
    "\n",
    "# Afficher la moyenne\n",
    "print(\"La moyenne des valeurs E_y_value est :\", moyenne_E_y)"
   ]
  },
  {
   "cell_type": "code",
   "execution_count": 5,
   "id": "2bd2751e-ba11-4bf3-8e8d-af2f93f43897",
   "metadata": {},
   "outputs": [
    {
     "data": {
      "text/plain": [
       "nan"
      ]
     },
     "execution_count": 5,
     "metadata": {},
     "output_type": "execute_result"
    }
   ],
   "source": [
    "market_region = premise_ds.iloc[0][\"Market group location\"]\n",
    "market_region"
   ]
  },
  {
   "cell_type": "code",
   "execution_count": 46,
   "id": "2125ef87-5235-4837-b2c5-4e309f28b768",
   "metadata": {},
   "outputs": [
    {
     "name": "stdout",
     "output_type": "stream",
     "text": [
      "NaN\n",
      "NaN\n",
      "La moyenne des valeurs E_y_value est : 5235.092333333333\n",
      "La moyenne des valeurs E_y_value est : 5235.092333333333\n",
      "La moyenne des valeurs E_y_value est : 4906.191\n"
     ]
    },
    {
     "ename": "IndexError",
     "evalue": "single positional indexer is out-of-bounds",
     "output_type": "error",
     "traceback": [
      "\u001b[1;31m---------------------------------------------------------------------------\u001b[0m",
      "\u001b[1;31mIndexError\u001b[0m                                Traceback (most recent call last)",
      "Cell \u001b[1;32mIn[46], line 5\u001b[0m\n\u001b[0;32m      3\u001b[0m \u001b[38;5;28;01mwhile\u001b[39;00m iRow \u001b[38;5;241m<\u001b[39m\u001b[38;5;241m5\u001b[39m:\n\u001b[0;32m      4\u001b[0m     \u001b[38;5;28;01mfor\u001b[39;00m index, row \u001b[38;5;129;01min\u001b[39;00m df\u001b[38;5;241m.\u001b[39miterrows():\n\u001b[1;32m----> 5\u001b[0m         \u001b[38;5;28;01mif\u001b[39;00m \u001b[38;5;28mstr\u001b[39m(\u001b[43mpv_pickle\u001b[49m\u001b[38;5;241;43m.\u001b[39;49m\u001b[43miloc\u001b[49m\u001b[43m[\u001b[49m\u001b[43miRow\u001b[49m\u001b[43m]\u001b[49m[\u001b[38;5;124m\"\u001b[39m\u001b[38;5;124mMarket group location\u001b[39m\u001b[38;5;124m\"\u001b[39m]) \u001b[38;5;241m==\u001b[39m \u001b[38;5;124m\"\u001b[39m\u001b[38;5;124mnan\u001b[39m\u001b[38;5;124m\"\u001b[39m:\n\u001b[0;32m      6\u001b[0m                 \u001b[38;5;28mprint\u001b[39m(\u001b[38;5;124m\"\u001b[39m\u001b[38;5;124mNaN\u001b[39m\u001b[38;5;124m\"\u001b[39m)\n\u001b[0;32m      7\u001b[0m                 iRow \u001b[38;5;241m=\u001b[39m iRow\u001b[38;5;241m+\u001b[39m\u001b[38;5;241m1\u001b[39m\n",
      "File \u001b[1;32m~\\virtualenvs\\MPTEX-proj\\Lib\\site-packages\\pandas\\core\\indexing.py:1191\u001b[0m, in \u001b[0;36m_LocationIndexer.__getitem__\u001b[1;34m(self, key)\u001b[0m\n\u001b[0;32m   1189\u001b[0m maybe_callable \u001b[38;5;241m=\u001b[39m com\u001b[38;5;241m.\u001b[39mapply_if_callable(key, \u001b[38;5;28mself\u001b[39m\u001b[38;5;241m.\u001b[39mobj)\n\u001b[0;32m   1190\u001b[0m maybe_callable \u001b[38;5;241m=\u001b[39m \u001b[38;5;28mself\u001b[39m\u001b[38;5;241m.\u001b[39m_check_deprecated_callable_usage(key, maybe_callable)\n\u001b[1;32m-> 1191\u001b[0m \u001b[38;5;28;01mreturn\u001b[39;00m \u001b[38;5;28;43mself\u001b[39;49m\u001b[38;5;241;43m.\u001b[39;49m\u001b[43m_getitem_axis\u001b[49m\u001b[43m(\u001b[49m\u001b[43mmaybe_callable\u001b[49m\u001b[43m,\u001b[49m\u001b[43m \u001b[49m\u001b[43maxis\u001b[49m\u001b[38;5;241;43m=\u001b[39;49m\u001b[43maxis\u001b[49m\u001b[43m)\u001b[49m\n",
      "File \u001b[1;32m~\\virtualenvs\\MPTEX-proj\\Lib\\site-packages\\pandas\\core\\indexing.py:1752\u001b[0m, in \u001b[0;36m_iLocIndexer._getitem_axis\u001b[1;34m(self, key, axis)\u001b[0m\n\u001b[0;32m   1749\u001b[0m     \u001b[38;5;28;01mraise\u001b[39;00m \u001b[38;5;167;01mTypeError\u001b[39;00m(\u001b[38;5;124m\"\u001b[39m\u001b[38;5;124mCannot index by location index with a non-integer key\u001b[39m\u001b[38;5;124m\"\u001b[39m)\n\u001b[0;32m   1751\u001b[0m \u001b[38;5;66;03m# validate the location\u001b[39;00m\n\u001b[1;32m-> 1752\u001b[0m \u001b[38;5;28;43mself\u001b[39;49m\u001b[38;5;241;43m.\u001b[39;49m\u001b[43m_validate_integer\u001b[49m\u001b[43m(\u001b[49m\u001b[43mkey\u001b[49m\u001b[43m,\u001b[49m\u001b[43m \u001b[49m\u001b[43maxis\u001b[49m\u001b[43m)\u001b[49m\n\u001b[0;32m   1754\u001b[0m \u001b[38;5;28;01mreturn\u001b[39;00m \u001b[38;5;28mself\u001b[39m\u001b[38;5;241m.\u001b[39mobj\u001b[38;5;241m.\u001b[39m_ixs(key, axis\u001b[38;5;241m=\u001b[39maxis)\n",
      "File \u001b[1;32m~\\virtualenvs\\MPTEX-proj\\Lib\\site-packages\\pandas\\core\\indexing.py:1685\u001b[0m, in \u001b[0;36m_iLocIndexer._validate_integer\u001b[1;34m(self, key, axis)\u001b[0m\n\u001b[0;32m   1683\u001b[0m len_axis \u001b[38;5;241m=\u001b[39m \u001b[38;5;28mlen\u001b[39m(\u001b[38;5;28mself\u001b[39m\u001b[38;5;241m.\u001b[39mobj\u001b[38;5;241m.\u001b[39m_get_axis(axis))\n\u001b[0;32m   1684\u001b[0m \u001b[38;5;28;01mif\u001b[39;00m key \u001b[38;5;241m>\u001b[39m\u001b[38;5;241m=\u001b[39m len_axis \u001b[38;5;129;01mor\u001b[39;00m key \u001b[38;5;241m<\u001b[39m \u001b[38;5;241m-\u001b[39mlen_axis:\n\u001b[1;32m-> 1685\u001b[0m     \u001b[38;5;28;01mraise\u001b[39;00m \u001b[38;5;167;01mIndexError\u001b[39;00m(\u001b[38;5;124m\"\u001b[39m\u001b[38;5;124msingle positional indexer is out-of-bounds\u001b[39m\u001b[38;5;124m\"\u001b[39m)\n",
      "\u001b[1;31mIndexError\u001b[0m: single positional indexer is out-of-bounds"
     ]
    }
   ],
   "source": [
    "pv_pickle = pv_pickle.head(5)\n",
    "iRow = 0\n",
    "while iRow <5:\n",
    "    for index, row in df.iterrows():\n",
    "        if str(pv_pickle.iloc[iRow][\"Market group location\"]) == \"nan\":\n",
    "                print(\"NaN\")\n",
    "                iRow = iRow+1\n",
    "        else:\n",
    "            peakpower = pv_pickle.iloc[iRow][\"Peak power (kWp)\"]\n",
    "            \n",
    "            Tech_pickle = pv_pickle.iloc[iRow][\"Technology\"]\n",
    "            pvtechchoice = (\"crystSi\" if \"Si\" in Tech_pickle\n",
    "                                else \"CIS\" if peakpower == \"CIS\"\n",
    "                                else \"CdTe\" if peakpower == \"CdTe\"\n",
    "                                else \"Unknown\")\n",
    "            \n",
    "            Mounting_pickle = pv_pickle.iloc[iRow][\"Installation\"]\n",
    "            mountingplace = (\"building\" if \"roof\" or \"facade\" in Mounting_pickle\n",
    "                                else \"free\")\n",
    "            \n",
    "            angle = (\"0\" if \"roof\" in Mounting_pickle\n",
    "                                else \"90\" if \"facade\" in Mounting_pickle\n",
    "                                else \"\")\n",
    "            \n",
    "            optimalinclination = (\"1\" if \"open ground\" in Mounting_pickle\n",
    "                                else \"\")\n",
    "            p1 = \"&peakpower=\"\n",
    "            p2 = \"&pvtechchoice=\"\n",
    "            p3 = \"&mountingplace=\"\n",
    "            p4 = \"&angle=\"\n",
    "            p5 = \"&optimalinclination=\"\n",
    "            mp = \"&loss=14&outputformat=json\"\n",
    "    \n",
    "            market_region = pv_pickle.iloc[iRow][\"Market group location\"]\n",
    "            \n",
    "            coordonnees_region = coord.loc[coord['Short name'] == market_region, ['Latitude', 'Longitude']]\n",
    "            #coordonnees_region\n",
    "            E_y_values_list = []\n",
    "            \n",
    "            for index, row in coordonnees_region.iterrows():\n",
    "                # Extraire les valeurs de latitude et de longitude de la ligne actuelle\n",
    "                lat = \"lat=\"+\"{:.2f}\".format(row['Latitude'])+\"&\"\n",
    "                lon = \"lon=\"+\"{:.2f}\".format(row['Longitude'])\n",
    "                url_test = base_url_coord+lat+lon+p1+str(peakpower)+p2+pvtechchoice+p3+mountingplace+p4+angle+p5+optimalinclination+mp\n",
    "                # print(url_test)\n",
    "                response_test = requests.get(url_test)\n",
    "                # print(response_test)\n",
    "                jsondata_test = response_test.json()\n",
    "                if response_test.status_code == 200:\n",
    "                    # print(\"Success\")\n",
    "                    jsondata_test = response_test.json()\n",
    "                    # Stocker la valeur E_y_value dans la liste\n",
    "                    E_y_values_list.append(jsondata_test[\"outputs\"][\"totals\"][\"fixed\"][\"E_y\"])\n",
    "            \n",
    "            moyenne_E_y = np.mean(E_y_values_list)\n",
    "            \n",
    "            # Afficher la moyenne\n",
    "            print(\"La moyenne des valeurs E_y_value est :\", moyenne_E_y)\n",
    "            iRow = iRow+1"
   ]
  },
  {
   "cell_type": "code",
   "execution_count": 54,
   "id": "ce051d85-9cb7-4f09-9374-0c9da25aeac5",
   "metadata": {},
   "outputs": [
    {
     "name": "stdout",
     "output_type": "stream",
     "text": [
      "[' single-Si facade', ' single-Si flat-roof', ' single-Si slanted-roof', ' single-Si open ground', ' multi-Si facade', ' multi-Si flat-roof', ' multi-Si slanted-roof', ' multi-Si open ground', ' a-Si facade', ' a-Si flat-roof', ' a-Si slanted-roof', ' a-Si open ground', ' ribbon-Si facade', ' ribbon-Si flat-roof', ' ribbon-Si slanted-roof', ' ribbon-Si open ground', ' CIS facade', ' CIS flat-roof', ' CIS slanted-roof', ' CIS open ground', ' CdTe facade', ' CdTe flat-roof', ' CdTe slanted-roof', ' CdTe open ground']\n"
     ]
    }
   ],
   "source": [
    "# Ecoinvent technology : \"single-Si\", \"multi-Si\", \"a-Si\", \"ribbon-Si\", \"CIS\", \"CdTe\"\n",
    "# Ecoinvent mounting : \"facade\"-\"flat-roof\"-\"slanted-roof\" = building, \"open ground\" = free\n",
    "\n",
    "tech_list = [' single-Si', ' multi-Si', ' a-Si', ' ribbon-Si', ' CIS', ' CdTe']\n",
    "mounting_list = ['facade', 'flat-roof', 'slanted-roof', 'open ground']\n",
    "\n",
    "# Initialiser une troisième liste pour stocker les suites\n",
    "tech_mount_list = []\n",
    "\n",
    "# Boucle pour générer chaque suite et les stocker dans la troisième liste\n",
    "for element1 in tech_list:\n",
    "    for element2 in mounting_list:\n",
    "        suite = element1 +\" \"+ element2\n",
    "        tech_mount_list.append(suite)\n",
    "\n",
    "# Afficher les suites stockées dans la troisième liste\n",
    "print(tech_mount_list)\n"
   ]
  },
  {
   "cell_type": "code",
   "execution_count": 55,
   "id": "18e8937d-1892-4cde-99cf-35af8ee6f658",
   "metadata": {},
   "outputs": [
    {
     "data": {
      "text/plain": [
       "' single-Si slanted-roof '"
      ]
     },
     "execution_count": 55,
     "metadata": {},
     "output_type": "execute_result"
    }
   ],
   "source": [
    "Tech_pickle = pv_pickle.iloc[0][\"Technology\"]\n",
    "Mounting_pickle = pv_pickle.iloc[0][\"Installation\"]\n",
    "\n",
    "parameter_combination = Tech_pickle + Mounting_pickle\n",
    "parameter_combination"
   ]
  },
  {
   "cell_type": "code",
   "execution_count": 82,
   "id": "cd39d245-94b1-4dd2-a1d2-a931b2468156",
   "metadata": {},
   "outputs": [
    {
     "name": "stdout",
     "output_type": "stream",
     "text": [
      "12\n",
      "Success\n",
      "Success\n",
      "Success\n"
     ]
    },
    {
     "ename": "KeyboardInterrupt",
     "evalue": "",
     "output_type": "error",
     "traceback": [
      "\u001b[1;31m---------------------------------------------------------------------------\u001b[0m",
      "\u001b[1;31mKeyboardInterrupt\u001b[0m                         Traceback (most recent call last)",
      "Cell \u001b[1;32mIn[82], line 46\u001b[0m\n\u001b[0;32m     44\u001b[0m url_request \u001b[38;5;241m=\u001b[39m url_api \u001b[38;5;241m+\u001b[39m lat \u001b[38;5;241m+\u001b[39m lon \u001b[38;5;241m+\u001b[39m poss\n\u001b[0;32m     45\u001b[0m \u001b[38;5;66;03m#url_list.append(url_request) \u001b[39;00m\n\u001b[1;32m---> 46\u001b[0m response_test \u001b[38;5;241m=\u001b[39m \u001b[43mrequests\u001b[49m\u001b[38;5;241;43m.\u001b[39;49m\u001b[43mget\u001b[49m\u001b[43m(\u001b[49m\u001b[43murl_request\u001b[49m\u001b[43m)\u001b[49m\n\u001b[0;32m     47\u001b[0m jsondata_test \u001b[38;5;241m=\u001b[39m response_test\u001b[38;5;241m.\u001b[39mjson()\n\u001b[0;32m     48\u001b[0m \u001b[38;5;28;01mif\u001b[39;00m response_test\u001b[38;5;241m.\u001b[39mstatus_code \u001b[38;5;241m==\u001b[39m \u001b[38;5;241m200\u001b[39m:\n",
      "File \u001b[1;32m~\\virtualenvs\\MPTEX-proj\\Lib\\site-packages\\requests\\api.py:73\u001b[0m, in \u001b[0;36mget\u001b[1;34m(url, params, **kwargs)\u001b[0m\n\u001b[0;32m     62\u001b[0m \u001b[38;5;28;01mdef\u001b[39;00m \u001b[38;5;21mget\u001b[39m(url, params\u001b[38;5;241m=\u001b[39m\u001b[38;5;28;01mNone\u001b[39;00m, \u001b[38;5;241m*\u001b[39m\u001b[38;5;241m*\u001b[39mkwargs):\n\u001b[0;32m     63\u001b[0m \u001b[38;5;250m    \u001b[39m\u001b[38;5;124mr\u001b[39m\u001b[38;5;124;03m\"\"\"Sends a GET request.\u001b[39;00m\n\u001b[0;32m     64\u001b[0m \n\u001b[0;32m     65\u001b[0m \u001b[38;5;124;03m    :param url: URL for the new :class:`Request` object.\u001b[39;00m\n\u001b[1;32m   (...)\u001b[0m\n\u001b[0;32m     70\u001b[0m \u001b[38;5;124;03m    :rtype: requests.Response\u001b[39;00m\n\u001b[0;32m     71\u001b[0m \u001b[38;5;124;03m    \"\"\"\u001b[39;00m\n\u001b[1;32m---> 73\u001b[0m     \u001b[38;5;28;01mreturn\u001b[39;00m \u001b[43mrequest\u001b[49m\u001b[43m(\u001b[49m\u001b[38;5;124;43m\"\u001b[39;49m\u001b[38;5;124;43mget\u001b[39;49m\u001b[38;5;124;43m\"\u001b[39;49m\u001b[43m,\u001b[49m\u001b[43m \u001b[49m\u001b[43murl\u001b[49m\u001b[43m,\u001b[49m\u001b[43m \u001b[49m\u001b[43mparams\u001b[49m\u001b[38;5;241;43m=\u001b[39;49m\u001b[43mparams\u001b[49m\u001b[43m,\u001b[49m\u001b[43m \u001b[49m\u001b[38;5;241;43m*\u001b[39;49m\u001b[38;5;241;43m*\u001b[39;49m\u001b[43mkwargs\u001b[49m\u001b[43m)\u001b[49m\n",
      "File \u001b[1;32m~\\virtualenvs\\MPTEX-proj\\Lib\\site-packages\\requests\\api.py:59\u001b[0m, in \u001b[0;36mrequest\u001b[1;34m(method, url, **kwargs)\u001b[0m\n\u001b[0;32m     55\u001b[0m \u001b[38;5;66;03m# By using the 'with' statement we are sure the session is closed, thus we\u001b[39;00m\n\u001b[0;32m     56\u001b[0m \u001b[38;5;66;03m# avoid leaving sockets open which can trigger a ResourceWarning in some\u001b[39;00m\n\u001b[0;32m     57\u001b[0m \u001b[38;5;66;03m# cases, and look like a memory leak in others.\u001b[39;00m\n\u001b[0;32m     58\u001b[0m \u001b[38;5;28;01mwith\u001b[39;00m sessions\u001b[38;5;241m.\u001b[39mSession() \u001b[38;5;28;01mas\u001b[39;00m session:\n\u001b[1;32m---> 59\u001b[0m     \u001b[38;5;28;01mreturn\u001b[39;00m \u001b[43msession\u001b[49m\u001b[38;5;241;43m.\u001b[39;49m\u001b[43mrequest\u001b[49m\u001b[43m(\u001b[49m\u001b[43mmethod\u001b[49m\u001b[38;5;241;43m=\u001b[39;49m\u001b[43mmethod\u001b[49m\u001b[43m,\u001b[49m\u001b[43m \u001b[49m\u001b[43murl\u001b[49m\u001b[38;5;241;43m=\u001b[39;49m\u001b[43murl\u001b[49m\u001b[43m,\u001b[49m\u001b[43m \u001b[49m\u001b[38;5;241;43m*\u001b[39;49m\u001b[38;5;241;43m*\u001b[39;49m\u001b[43mkwargs\u001b[49m\u001b[43m)\u001b[49m\n",
      "File \u001b[1;32m~\\virtualenvs\\MPTEX-proj\\Lib\\site-packages\\requests\\sessions.py:589\u001b[0m, in \u001b[0;36mSession.request\u001b[1;34m(self, method, url, params, data, headers, cookies, files, auth, timeout, allow_redirects, proxies, hooks, stream, verify, cert, json)\u001b[0m\n\u001b[0;32m    584\u001b[0m send_kwargs \u001b[38;5;241m=\u001b[39m {\n\u001b[0;32m    585\u001b[0m     \u001b[38;5;124m\"\u001b[39m\u001b[38;5;124mtimeout\u001b[39m\u001b[38;5;124m\"\u001b[39m: timeout,\n\u001b[0;32m    586\u001b[0m     \u001b[38;5;124m\"\u001b[39m\u001b[38;5;124mallow_redirects\u001b[39m\u001b[38;5;124m\"\u001b[39m: allow_redirects,\n\u001b[0;32m    587\u001b[0m }\n\u001b[0;32m    588\u001b[0m send_kwargs\u001b[38;5;241m.\u001b[39mupdate(settings)\n\u001b[1;32m--> 589\u001b[0m resp \u001b[38;5;241m=\u001b[39m \u001b[38;5;28;43mself\u001b[39;49m\u001b[38;5;241;43m.\u001b[39;49m\u001b[43msend\u001b[49m\u001b[43m(\u001b[49m\u001b[43mprep\u001b[49m\u001b[43m,\u001b[49m\u001b[43m \u001b[49m\u001b[38;5;241;43m*\u001b[39;49m\u001b[38;5;241;43m*\u001b[39;49m\u001b[43msend_kwargs\u001b[49m\u001b[43m)\u001b[49m\n\u001b[0;32m    591\u001b[0m \u001b[38;5;28;01mreturn\u001b[39;00m resp\n",
      "File \u001b[1;32m~\\virtualenvs\\MPTEX-proj\\Lib\\site-packages\\requests\\sessions.py:703\u001b[0m, in \u001b[0;36mSession.send\u001b[1;34m(self, request, **kwargs)\u001b[0m\n\u001b[0;32m    700\u001b[0m start \u001b[38;5;241m=\u001b[39m preferred_clock()\n\u001b[0;32m    702\u001b[0m \u001b[38;5;66;03m# Send the request\u001b[39;00m\n\u001b[1;32m--> 703\u001b[0m r \u001b[38;5;241m=\u001b[39m \u001b[43madapter\u001b[49m\u001b[38;5;241;43m.\u001b[39;49m\u001b[43msend\u001b[49m\u001b[43m(\u001b[49m\u001b[43mrequest\u001b[49m\u001b[43m,\u001b[49m\u001b[43m \u001b[49m\u001b[38;5;241;43m*\u001b[39;49m\u001b[38;5;241;43m*\u001b[39;49m\u001b[43mkwargs\u001b[49m\u001b[43m)\u001b[49m\n\u001b[0;32m    705\u001b[0m \u001b[38;5;66;03m# Total elapsed time of the request (approximately)\u001b[39;00m\n\u001b[0;32m    706\u001b[0m elapsed \u001b[38;5;241m=\u001b[39m preferred_clock() \u001b[38;5;241m-\u001b[39m start\n",
      "File \u001b[1;32m~\\virtualenvs\\MPTEX-proj\\Lib\\site-packages\\requests\\adapters.py:589\u001b[0m, in \u001b[0;36mHTTPAdapter.send\u001b[1;34m(self, request, stream, timeout, verify, cert, proxies)\u001b[0m\n\u001b[0;32m    586\u001b[0m     timeout \u001b[38;5;241m=\u001b[39m TimeoutSauce(connect\u001b[38;5;241m=\u001b[39mtimeout, read\u001b[38;5;241m=\u001b[39mtimeout)\n\u001b[0;32m    588\u001b[0m \u001b[38;5;28;01mtry\u001b[39;00m:\n\u001b[1;32m--> 589\u001b[0m     resp \u001b[38;5;241m=\u001b[39m \u001b[43mconn\u001b[49m\u001b[38;5;241;43m.\u001b[39;49m\u001b[43murlopen\u001b[49m\u001b[43m(\u001b[49m\n\u001b[0;32m    590\u001b[0m \u001b[43m        \u001b[49m\u001b[43mmethod\u001b[49m\u001b[38;5;241;43m=\u001b[39;49m\u001b[43mrequest\u001b[49m\u001b[38;5;241;43m.\u001b[39;49m\u001b[43mmethod\u001b[49m\u001b[43m,\u001b[49m\n\u001b[0;32m    591\u001b[0m \u001b[43m        \u001b[49m\u001b[43murl\u001b[49m\u001b[38;5;241;43m=\u001b[39;49m\u001b[43murl\u001b[49m\u001b[43m,\u001b[49m\n\u001b[0;32m    592\u001b[0m \u001b[43m        \u001b[49m\u001b[43mbody\u001b[49m\u001b[38;5;241;43m=\u001b[39;49m\u001b[43mrequest\u001b[49m\u001b[38;5;241;43m.\u001b[39;49m\u001b[43mbody\u001b[49m\u001b[43m,\u001b[49m\n\u001b[0;32m    593\u001b[0m \u001b[43m        \u001b[49m\u001b[43mheaders\u001b[49m\u001b[38;5;241;43m=\u001b[39;49m\u001b[43mrequest\u001b[49m\u001b[38;5;241;43m.\u001b[39;49m\u001b[43mheaders\u001b[49m\u001b[43m,\u001b[49m\n\u001b[0;32m    594\u001b[0m \u001b[43m        \u001b[49m\u001b[43mredirect\u001b[49m\u001b[38;5;241;43m=\u001b[39;49m\u001b[38;5;28;43;01mFalse\u001b[39;49;00m\u001b[43m,\u001b[49m\n\u001b[0;32m    595\u001b[0m \u001b[43m        \u001b[49m\u001b[43massert_same_host\u001b[49m\u001b[38;5;241;43m=\u001b[39;49m\u001b[38;5;28;43;01mFalse\u001b[39;49;00m\u001b[43m,\u001b[49m\n\u001b[0;32m    596\u001b[0m \u001b[43m        \u001b[49m\u001b[43mpreload_content\u001b[49m\u001b[38;5;241;43m=\u001b[39;49m\u001b[38;5;28;43;01mFalse\u001b[39;49;00m\u001b[43m,\u001b[49m\n\u001b[0;32m    597\u001b[0m \u001b[43m        \u001b[49m\u001b[43mdecode_content\u001b[49m\u001b[38;5;241;43m=\u001b[39;49m\u001b[38;5;28;43;01mFalse\u001b[39;49;00m\u001b[43m,\u001b[49m\n\u001b[0;32m    598\u001b[0m \u001b[43m        \u001b[49m\u001b[43mretries\u001b[49m\u001b[38;5;241;43m=\u001b[39;49m\u001b[38;5;28;43mself\u001b[39;49m\u001b[38;5;241;43m.\u001b[39;49m\u001b[43mmax_retries\u001b[49m\u001b[43m,\u001b[49m\n\u001b[0;32m    599\u001b[0m \u001b[43m        \u001b[49m\u001b[43mtimeout\u001b[49m\u001b[38;5;241;43m=\u001b[39;49m\u001b[43mtimeout\u001b[49m\u001b[43m,\u001b[49m\n\u001b[0;32m    600\u001b[0m \u001b[43m        \u001b[49m\u001b[43mchunked\u001b[49m\u001b[38;5;241;43m=\u001b[39;49m\u001b[43mchunked\u001b[49m\u001b[43m,\u001b[49m\n\u001b[0;32m    601\u001b[0m \u001b[43m    \u001b[49m\u001b[43m)\u001b[49m\n\u001b[0;32m    603\u001b[0m \u001b[38;5;28;01mexcept\u001b[39;00m (ProtocolError, \u001b[38;5;167;01mOSError\u001b[39;00m) \u001b[38;5;28;01mas\u001b[39;00m err:\n\u001b[0;32m    604\u001b[0m     \u001b[38;5;28;01mraise\u001b[39;00m \u001b[38;5;167;01mConnectionError\u001b[39;00m(err, request\u001b[38;5;241m=\u001b[39mrequest)\n",
      "File \u001b[1;32m~\\virtualenvs\\MPTEX-proj\\Lib\\site-packages\\urllib3\\connectionpool.py:793\u001b[0m, in \u001b[0;36mHTTPConnectionPool.urlopen\u001b[1;34m(self, method, url, body, headers, retries, redirect, assert_same_host, timeout, pool_timeout, release_conn, chunked, body_pos, preload_content, decode_content, **response_kw)\u001b[0m\n\u001b[0;32m    790\u001b[0m response_conn \u001b[38;5;241m=\u001b[39m conn \u001b[38;5;28;01mif\u001b[39;00m \u001b[38;5;129;01mnot\u001b[39;00m release_conn \u001b[38;5;28;01melse\u001b[39;00m \u001b[38;5;28;01mNone\u001b[39;00m\n\u001b[0;32m    792\u001b[0m \u001b[38;5;66;03m# Make the request on the HTTPConnection object\u001b[39;00m\n\u001b[1;32m--> 793\u001b[0m response \u001b[38;5;241m=\u001b[39m \u001b[38;5;28;43mself\u001b[39;49m\u001b[38;5;241;43m.\u001b[39;49m\u001b[43m_make_request\u001b[49m\u001b[43m(\u001b[49m\n\u001b[0;32m    794\u001b[0m \u001b[43m    \u001b[49m\u001b[43mconn\u001b[49m\u001b[43m,\u001b[49m\n\u001b[0;32m    795\u001b[0m \u001b[43m    \u001b[49m\u001b[43mmethod\u001b[49m\u001b[43m,\u001b[49m\n\u001b[0;32m    796\u001b[0m \u001b[43m    \u001b[49m\u001b[43murl\u001b[49m\u001b[43m,\u001b[49m\n\u001b[0;32m    797\u001b[0m \u001b[43m    \u001b[49m\u001b[43mtimeout\u001b[49m\u001b[38;5;241;43m=\u001b[39;49m\u001b[43mtimeout_obj\u001b[49m\u001b[43m,\u001b[49m\n\u001b[0;32m    798\u001b[0m \u001b[43m    \u001b[49m\u001b[43mbody\u001b[49m\u001b[38;5;241;43m=\u001b[39;49m\u001b[43mbody\u001b[49m\u001b[43m,\u001b[49m\n\u001b[0;32m    799\u001b[0m \u001b[43m    \u001b[49m\u001b[43mheaders\u001b[49m\u001b[38;5;241;43m=\u001b[39;49m\u001b[43mheaders\u001b[49m\u001b[43m,\u001b[49m\n\u001b[0;32m    800\u001b[0m \u001b[43m    \u001b[49m\u001b[43mchunked\u001b[49m\u001b[38;5;241;43m=\u001b[39;49m\u001b[43mchunked\u001b[49m\u001b[43m,\u001b[49m\n\u001b[0;32m    801\u001b[0m \u001b[43m    \u001b[49m\u001b[43mretries\u001b[49m\u001b[38;5;241;43m=\u001b[39;49m\u001b[43mretries\u001b[49m\u001b[43m,\u001b[49m\n\u001b[0;32m    802\u001b[0m \u001b[43m    \u001b[49m\u001b[43mresponse_conn\u001b[49m\u001b[38;5;241;43m=\u001b[39;49m\u001b[43mresponse_conn\u001b[49m\u001b[43m,\u001b[49m\n\u001b[0;32m    803\u001b[0m \u001b[43m    \u001b[49m\u001b[43mpreload_content\u001b[49m\u001b[38;5;241;43m=\u001b[39;49m\u001b[43mpreload_content\u001b[49m\u001b[43m,\u001b[49m\n\u001b[0;32m    804\u001b[0m \u001b[43m    \u001b[49m\u001b[43mdecode_content\u001b[49m\u001b[38;5;241;43m=\u001b[39;49m\u001b[43mdecode_content\u001b[49m\u001b[43m,\u001b[49m\n\u001b[0;32m    805\u001b[0m \u001b[43m    \u001b[49m\u001b[38;5;241;43m*\u001b[39;49m\u001b[38;5;241;43m*\u001b[39;49m\u001b[43mresponse_kw\u001b[49m\u001b[43m,\u001b[49m\n\u001b[0;32m    806\u001b[0m \u001b[43m\u001b[49m\u001b[43m)\u001b[49m\n\u001b[0;32m    808\u001b[0m \u001b[38;5;66;03m# Everything went great!\u001b[39;00m\n\u001b[0;32m    809\u001b[0m clean_exit \u001b[38;5;241m=\u001b[39m \u001b[38;5;28;01mTrue\u001b[39;00m\n",
      "File \u001b[1;32m~\\virtualenvs\\MPTEX-proj\\Lib\\site-packages\\urllib3\\connectionpool.py:537\u001b[0m, in \u001b[0;36mHTTPConnectionPool._make_request\u001b[1;34m(self, conn, method, url, body, headers, retries, timeout, chunked, response_conn, preload_content, decode_content, enforce_content_length)\u001b[0m\n\u001b[0;32m    535\u001b[0m \u001b[38;5;66;03m# Receive the response from the server\u001b[39;00m\n\u001b[0;32m    536\u001b[0m \u001b[38;5;28;01mtry\u001b[39;00m:\n\u001b[1;32m--> 537\u001b[0m     response \u001b[38;5;241m=\u001b[39m \u001b[43mconn\u001b[49m\u001b[38;5;241;43m.\u001b[39;49m\u001b[43mgetresponse\u001b[49m\u001b[43m(\u001b[49m\u001b[43m)\u001b[49m\n\u001b[0;32m    538\u001b[0m \u001b[38;5;28;01mexcept\u001b[39;00m (BaseSSLError, \u001b[38;5;167;01mOSError\u001b[39;00m) \u001b[38;5;28;01mas\u001b[39;00m e:\n\u001b[0;32m    539\u001b[0m     \u001b[38;5;28mself\u001b[39m\u001b[38;5;241m.\u001b[39m_raise_timeout(err\u001b[38;5;241m=\u001b[39me, url\u001b[38;5;241m=\u001b[39murl, timeout_value\u001b[38;5;241m=\u001b[39mread_timeout)\n",
      "File \u001b[1;32m~\\virtualenvs\\MPTEX-proj\\Lib\\site-packages\\urllib3\\connection.py:466\u001b[0m, in \u001b[0;36mHTTPConnection.getresponse\u001b[1;34m(self)\u001b[0m\n\u001b[0;32m    463\u001b[0m \u001b[38;5;28;01mfrom\u001b[39;00m \u001b[38;5;21;01m.\u001b[39;00m\u001b[38;5;21;01mresponse\u001b[39;00m \u001b[38;5;28;01mimport\u001b[39;00m HTTPResponse\n\u001b[0;32m    465\u001b[0m \u001b[38;5;66;03m# Get the response from http.client.HTTPConnection\u001b[39;00m\n\u001b[1;32m--> 466\u001b[0m httplib_response \u001b[38;5;241m=\u001b[39m \u001b[38;5;28;43msuper\u001b[39;49m\u001b[43m(\u001b[49m\u001b[43m)\u001b[49m\u001b[38;5;241;43m.\u001b[39;49m\u001b[43mgetresponse\u001b[49m\u001b[43m(\u001b[49m\u001b[43m)\u001b[49m\n\u001b[0;32m    468\u001b[0m \u001b[38;5;28;01mtry\u001b[39;00m:\n\u001b[0;32m    469\u001b[0m     assert_header_parsing(httplib_response\u001b[38;5;241m.\u001b[39mmsg)\n",
      "File \u001b[1;32m~\\AppData\\Local\\Programs\\Python\\Python312\\Lib\\http\\client.py:1428\u001b[0m, in \u001b[0;36mHTTPConnection.getresponse\u001b[1;34m(self)\u001b[0m\n\u001b[0;32m   1426\u001b[0m \u001b[38;5;28;01mtry\u001b[39;00m:\n\u001b[0;32m   1427\u001b[0m     \u001b[38;5;28;01mtry\u001b[39;00m:\n\u001b[1;32m-> 1428\u001b[0m         \u001b[43mresponse\u001b[49m\u001b[38;5;241;43m.\u001b[39;49m\u001b[43mbegin\u001b[49m\u001b[43m(\u001b[49m\u001b[43m)\u001b[49m\n\u001b[0;32m   1429\u001b[0m     \u001b[38;5;28;01mexcept\u001b[39;00m \u001b[38;5;167;01mConnectionError\u001b[39;00m:\n\u001b[0;32m   1430\u001b[0m         \u001b[38;5;28mself\u001b[39m\u001b[38;5;241m.\u001b[39mclose()\n",
      "File \u001b[1;32m~\\AppData\\Local\\Programs\\Python\\Python312\\Lib\\http\\client.py:331\u001b[0m, in \u001b[0;36mHTTPResponse.begin\u001b[1;34m(self)\u001b[0m\n\u001b[0;32m    329\u001b[0m \u001b[38;5;66;03m# read until we get a non-100 response\u001b[39;00m\n\u001b[0;32m    330\u001b[0m \u001b[38;5;28;01mwhile\u001b[39;00m \u001b[38;5;28;01mTrue\u001b[39;00m:\n\u001b[1;32m--> 331\u001b[0m     version, status, reason \u001b[38;5;241m=\u001b[39m \u001b[38;5;28;43mself\u001b[39;49m\u001b[38;5;241;43m.\u001b[39;49m\u001b[43m_read_status\u001b[49m\u001b[43m(\u001b[49m\u001b[43m)\u001b[49m\n\u001b[0;32m    332\u001b[0m     \u001b[38;5;28;01mif\u001b[39;00m status \u001b[38;5;241m!=\u001b[39m CONTINUE:\n\u001b[0;32m    333\u001b[0m         \u001b[38;5;28;01mbreak\u001b[39;00m\n",
      "File \u001b[1;32m~\\AppData\\Local\\Programs\\Python\\Python312\\Lib\\http\\client.py:292\u001b[0m, in \u001b[0;36mHTTPResponse._read_status\u001b[1;34m(self)\u001b[0m\n\u001b[0;32m    291\u001b[0m \u001b[38;5;28;01mdef\u001b[39;00m \u001b[38;5;21m_read_status\u001b[39m(\u001b[38;5;28mself\u001b[39m):\n\u001b[1;32m--> 292\u001b[0m     line \u001b[38;5;241m=\u001b[39m \u001b[38;5;28mstr\u001b[39m(\u001b[38;5;28;43mself\u001b[39;49m\u001b[38;5;241;43m.\u001b[39;49m\u001b[43mfp\u001b[49m\u001b[38;5;241;43m.\u001b[39;49m\u001b[43mreadline\u001b[49m\u001b[43m(\u001b[49m\u001b[43m_MAXLINE\u001b[49m\u001b[43m \u001b[49m\u001b[38;5;241;43m+\u001b[39;49m\u001b[43m \u001b[49m\u001b[38;5;241;43m1\u001b[39;49m\u001b[43m)\u001b[49m, \u001b[38;5;124m\"\u001b[39m\u001b[38;5;124miso-8859-1\u001b[39m\u001b[38;5;124m\"\u001b[39m)\n\u001b[0;32m    293\u001b[0m     \u001b[38;5;28;01mif\u001b[39;00m \u001b[38;5;28mlen\u001b[39m(line) \u001b[38;5;241m>\u001b[39m _MAXLINE:\n\u001b[0;32m    294\u001b[0m         \u001b[38;5;28;01mraise\u001b[39;00m LineTooLong(\u001b[38;5;124m\"\u001b[39m\u001b[38;5;124mstatus line\u001b[39m\u001b[38;5;124m\"\u001b[39m)\n",
      "File \u001b[1;32m~\\AppData\\Local\\Programs\\Python\\Python312\\Lib\\socket.py:707\u001b[0m, in \u001b[0;36mSocketIO.readinto\u001b[1;34m(self, b)\u001b[0m\n\u001b[0;32m    705\u001b[0m \u001b[38;5;28;01mwhile\u001b[39;00m \u001b[38;5;28;01mTrue\u001b[39;00m:\n\u001b[0;32m    706\u001b[0m     \u001b[38;5;28;01mtry\u001b[39;00m:\n\u001b[1;32m--> 707\u001b[0m         \u001b[38;5;28;01mreturn\u001b[39;00m \u001b[38;5;28;43mself\u001b[39;49m\u001b[38;5;241;43m.\u001b[39;49m\u001b[43m_sock\u001b[49m\u001b[38;5;241;43m.\u001b[39;49m\u001b[43mrecv_into\u001b[49m\u001b[43m(\u001b[49m\u001b[43mb\u001b[49m\u001b[43m)\u001b[49m\n\u001b[0;32m    708\u001b[0m     \u001b[38;5;28;01mexcept\u001b[39;00m timeout:\n\u001b[0;32m    709\u001b[0m         \u001b[38;5;28mself\u001b[39m\u001b[38;5;241m.\u001b[39m_timeout_occurred \u001b[38;5;241m=\u001b[39m \u001b[38;5;28;01mTrue\u001b[39;00m\n",
      "File \u001b[1;32m~\\AppData\\Local\\Programs\\Python\\Python312\\Lib\\ssl.py:1252\u001b[0m, in \u001b[0;36mSSLSocket.recv_into\u001b[1;34m(self, buffer, nbytes, flags)\u001b[0m\n\u001b[0;32m   1248\u001b[0m     \u001b[38;5;28;01mif\u001b[39;00m flags \u001b[38;5;241m!=\u001b[39m \u001b[38;5;241m0\u001b[39m:\n\u001b[0;32m   1249\u001b[0m         \u001b[38;5;28;01mraise\u001b[39;00m \u001b[38;5;167;01mValueError\u001b[39;00m(\n\u001b[0;32m   1250\u001b[0m           \u001b[38;5;124m\"\u001b[39m\u001b[38;5;124mnon-zero flags not allowed in calls to recv_into() on \u001b[39m\u001b[38;5;132;01m%s\u001b[39;00m\u001b[38;5;124m\"\u001b[39m \u001b[38;5;241m%\u001b[39m\n\u001b[0;32m   1251\u001b[0m           \u001b[38;5;28mself\u001b[39m\u001b[38;5;241m.\u001b[39m\u001b[38;5;18m__class__\u001b[39m)\n\u001b[1;32m-> 1252\u001b[0m     \u001b[38;5;28;01mreturn\u001b[39;00m \u001b[38;5;28;43mself\u001b[39;49m\u001b[38;5;241;43m.\u001b[39;49m\u001b[43mread\u001b[49m\u001b[43m(\u001b[49m\u001b[43mnbytes\u001b[49m\u001b[43m,\u001b[49m\u001b[43m \u001b[49m\u001b[43mbuffer\u001b[49m\u001b[43m)\u001b[49m\n\u001b[0;32m   1253\u001b[0m \u001b[38;5;28;01melse\u001b[39;00m:\n\u001b[0;32m   1254\u001b[0m     \u001b[38;5;28;01mreturn\u001b[39;00m \u001b[38;5;28msuper\u001b[39m()\u001b[38;5;241m.\u001b[39mrecv_into(buffer, nbytes, flags)\n",
      "File \u001b[1;32m~\\AppData\\Local\\Programs\\Python\\Python312\\Lib\\ssl.py:1104\u001b[0m, in \u001b[0;36mSSLSocket.read\u001b[1;34m(self, len, buffer)\u001b[0m\n\u001b[0;32m   1102\u001b[0m \u001b[38;5;28;01mtry\u001b[39;00m:\n\u001b[0;32m   1103\u001b[0m     \u001b[38;5;28;01mif\u001b[39;00m buffer \u001b[38;5;129;01mis\u001b[39;00m \u001b[38;5;129;01mnot\u001b[39;00m \u001b[38;5;28;01mNone\u001b[39;00m:\n\u001b[1;32m-> 1104\u001b[0m         \u001b[38;5;28;01mreturn\u001b[39;00m \u001b[38;5;28;43mself\u001b[39;49m\u001b[38;5;241;43m.\u001b[39;49m\u001b[43m_sslobj\u001b[49m\u001b[38;5;241;43m.\u001b[39;49m\u001b[43mread\u001b[49m\u001b[43m(\u001b[49m\u001b[38;5;28;43mlen\u001b[39;49m\u001b[43m,\u001b[49m\u001b[43m \u001b[49m\u001b[43mbuffer\u001b[49m\u001b[43m)\u001b[49m\n\u001b[0;32m   1105\u001b[0m     \u001b[38;5;28;01melse\u001b[39;00m:\n\u001b[0;32m   1106\u001b[0m         \u001b[38;5;28;01mreturn\u001b[39;00m \u001b[38;5;28mself\u001b[39m\u001b[38;5;241m.\u001b[39m_sslobj\u001b[38;5;241m.\u001b[39mread(\u001b[38;5;28mlen\u001b[39m)\n",
      "\u001b[1;31mKeyboardInterrupt\u001b[0m: "
     ]
    }
   ],
   "source": [
    "# Ecoinvent technology : \"single-Si\", \"multi-Si\", \"a-Si\", \"ribbon-Si\", \"CIS\", \"CdTe\"\n",
    "# Ecoinvent mounting : \"facade\"-\"flat-roof\"-\"slanted-roof\" = building, \"open ground\" = free\n",
    "\n",
    "mktrgn_list = [\"RUS\",\"CHN\",\"RSAF\",\"INDO\",\"JAP\",\"RSAM\",\"WAF\",\"UKR\",\"INDIA\",\"ME\",\"WEU\",\"NAF\",\"KOR\",\"EAF\",\"STAN\",\"CEU\",\"RCAM\",\"CAN\",\"RSAS\",\"SAF\",\"BRA\",\"TUR\",\"OCE\",\"USA\",\"SEAS\"]\n",
    "\n",
    "ei_tech_list = [' single-Si', ' multi-Si', ' a-Si', ' ribbon-Si', ' CIS', ' CdTe']\n",
    "ei_mounting_list = ['facade', 'flat-roof', 'slanted-roof', 'open ground']\n",
    "\n",
    "tech_list = ['crystSi', 'CIS', 'CdTe', 'Unknown']\n",
    "mounting_list = ['free', 'building']\n",
    "angle_list = ['90','0']\n",
    "optincl = '1'\n",
    "poss_list = []\n",
    "url_list = []\n",
    "yrlygen_list = []\n",
    "region_list = []\n",
    "techno_list = []\n",
    "prod_list = []\n",
    "\n",
    "p0 = \"&peakpower=1\"\n",
    "p1 = \"&pvtechchoice=\"\n",
    "p2 = \"&mountingplace=\"\n",
    "p3 = \"&angle=\"\n",
    "p4 = \"&optimalinclination=\"\n",
    "mp = \"&loss=14&outputformat=json\"\n",
    "\n",
    "# Boucle pour générer chaque suite et les stocker dans la troisième liste\n",
    "for e1 in tech_list:\n",
    "    for e2 in mounting_list:\n",
    "        if e2 == \"free\":\n",
    "            suite_url = p0+p1+e1+p2+e2+p4+optincl+mp\n",
    "            poss_list.append(suite_url)\n",
    "        else:\n",
    "            for e3 in angle_list:\n",
    "                suite_url = p0+p1+e1+p2+e2+p3+e3+mp\n",
    "                poss_list.append(suite_url)\n",
    "print(len(poss_list))\n",
    "for region in mktrgn_list:\n",
    "    coordonnees_region = coord.loc[coord['Short name'] == region, ['Latitude', 'Longitude']]\n",
    "    for poss in poss_list:\n",
    "        for index, row in coordonnees_region.iterrows():\n",
    "            lat = \"lat=\"+\"{:.2f}\".format(row['Latitude'])+\"&\"\n",
    "            lon = \"lon=\"+\"{:.2f}\".format(row['Longitude'])\n",
    "            url_request = url_api + lat + lon + poss\n",
    "            #url_list.append(url_request) \n",
    "            response_test = requests.get(url_request)\n",
    "            jsondata_test = response_test.json()\n",
    "            if response_test.status_code == 200:\n",
    "                print(\"Success\")\n",
    "                jsondata_test = response_test.json()\n",
    "                yrlygen_list.append(jsondata_test[\"outputs\"][\"totals\"][\"fixed\"][\"E_y\"])\n",
    "        mean_E_y = np.mean(yrlygen_list)\n",
    "        yrlygen_list = []\n",
    "        region_list.append(region)\n",
    "        techno_list.append(poss)\n",
    "        prod_list.append(mean_E_y)\n",
    "        print(region,poss,mean_E_y)\n",
    "                "
   ]
  },
  {
   "cell_type": "code",
   "execution_count": null,
   "id": "a8af26b4-9f08-4f18-aa6e-318be8ed49e5",
   "metadata": {},
   "outputs": [],
   "source": [
    "# PVgis technology. Choices are: \"crystSi\", \"CIS\", \"CdTe\" and \"Unknown\"\n",
    "# pvtechchoice\n",
    "# Ecoinvent technology : \"single-Si\", \"multi-Si\", \"a-Si\", \"ribbon-Si\", \"CIS\", \"CdTe\"\n",
    "\n",
    "# Type of mounting of the PV modules are: \"free\" for free-standing and \"building\" for building-integrated.\n",
    "# mountingplace\n",
    "# Ecoinvent mounting : \"facade\"-\"flat-roof\"-\"slanted-roof\" = building, \"open ground\" = free\n",
    "\n",
    "# Inclination angle from horizontal plane of the (fixed) PV system.\n",
    "# angle\n",
    "# Ecoinvent inclination : \"facade\" = 90°, \"-roof\" = 0°, \"open ground\" = no value\n",
    "\n",
    "# Calculate the optimum inclination AND orientation angles. Value of 1 for \"yes\". All other values (or no value) mean \"no\".\n",
    "# optimalinclination\n",
    "# Ecoinvent : \"open ground\" = 1, no value for others"
   ]
  }
 ],
 "metadata": {
  "kernelspec": {
   "display_name": "Python 3 (ipykernel)",
   "language": "python",
   "name": "python3"
  },
  "language_info": {
   "codemirror_mode": {
    "name": "ipython",
    "version": 3
   },
   "file_extension": ".py",
   "mimetype": "text/x-python",
   "name": "python",
   "nbconvert_exporter": "python",
   "pygments_lexer": "ipython3",
   "version": "3.12.3"
  }
 },
 "nbformat": 4,
 "nbformat_minor": 5
}
