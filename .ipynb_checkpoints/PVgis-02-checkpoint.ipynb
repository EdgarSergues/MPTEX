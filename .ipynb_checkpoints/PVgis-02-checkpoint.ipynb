{
 "cells": [
  {
   "cell_type": "code",
   "execution_count": 28,
   "id": "b604b30d-f003-4b8a-99e8-2c59547c2ee8",
   "metadata": {},
   "outputs": [],
   "source": [
    "import os, csv, json, requests\n",
    "import glob\n",
    "import pycountry\n",
    "import pandas as pd\n",
    "import numpy as np\n",
    "from datetime import date\n",
    "import pickle"
   ]
  },
  {
   "cell_type": "code",
   "execution_count": 29,
   "id": "22e53aa8-74d7-4f9a-9d31-65b7f490b4af",
   "metadata": {},
   "outputs": [],
   "source": [
    "with open(r\"pv_detailsSSP2-RCP19-2050.pickle\", \"rb\") as input_file:\n",
    "        pv_pickle = pickle.load(input_file)\n",
    "\n",
    "base_url_coord = \"https://re.jrc.ec.europa.eu/api/v5_2/PVcalc?\"\n",
    "\n",
    "coord = pd.read_csv(\"coordinates.csv\")"
   ]
  },
  {
   "cell_type": "code",
   "execution_count": 25,
   "id": "ba203952-49c0-45e3-baa6-164f2d05da2b",
   "metadata": {
    "scrolled": true
   },
   "outputs": [],
   "source": [
    "# Nominal power of the PV system, in kW. 1kWp / m²\n",
    "# peakpower\n",
    "\n",
    "# PVgis technology. Choices are: \"crystSi\", \"CIS\", \"CdTe\" and \"Unknown\"\n",
    "# pvtechchoice\n",
    "# Ecoinvent technology : \"single-Si\", \"multi-Si\", \"a-Si\", \"ribbon-Si\", \"CIS\", \"CdTe\"\n",
    "\n",
    "# Type of mounting of the PV modules are: \"free\" for free-standing and \"building\" for building-integrated.\n",
    "# mountingplace\n",
    "# Ecoinvent mounting : \"facade\"-\"flat-roof\"-\"slanted-roof\" = building, \"open ground\" = free\n",
    "\n",
    "# Inclination angle from horizontal plane of the (fixed) PV system.\n",
    "# angle\n",
    "# Ecoinvent inclination : \"facade\" = 90°, \"-roof\" = 0°, \"open ground\" = no value\n",
    "\n",
    "# Calculate the optimum inclination AND orientation angles. Value of 1 for \"yes\". All other values (or no value) mean \"no\".\n",
    "# optimalinclination\n",
    "# Ecoinvent : \"open ground\" = 1, no value for others"
   ]
  },
  {
   "cell_type": "code",
   "execution_count": 31,
   "id": "9ab8def1-4167-4c93-8147-e41e3e3a15ac",
   "metadata": {
    "scrolled": true
   },
   "outputs": [],
   "source": [
    "iRow = 0\n",
    "\n",
    "peakpower = pv_pickle.iloc[iRow][\"Peak power (kWp)\"]\n",
    "\n",
    "Tech_pickle = pv_pickle.iloc[iRow][\"Technology\"]\n",
    "pvtechchoice = (\"crystSi\" if \"Si\" in Tech_pickle\n",
    "                    else \"CIS\" if peakpower == \"CIS\"\n",
    "                    else \"CdTe\" if peakpower == \"CdTe\"\n",
    "                    else \"Unknown\")\n",
    "\n",
    "Mounting_pickle = pv_pickle.iloc[iRow][\"Installation\"]\n",
    "mountingplace = (\"building\" if \"roof\" or \"facade\" in Mounting_pickle\n",
    "                    else \"free\")\n",
    "\n",
    "angle = (\"0\" if \"roof\" in Mounting_pickle\n",
    "                    else \"90\" if \"facade\" in Mounting_pickle\n",
    "                    else \"\")\n",
    "\n",
    "optimalinclination = (\"1\" if \"open ground\" in Mounting_pickle\n",
    "                    else \"\")\n",
    "p1 = \"&peakpower=\"\n",
    "p2 = \"&pvtechchoice=\"\n",
    "p3 = \"&mountingplace=\"\n",
    "p4 = \"&angle=\"\n",
    "p5 = \"&optimalinclination=\"\n",
    "mp = \"&loss=14&outputformat=json\""
   ]
  },
  {
   "cell_type": "code",
   "execution_count": 88,
   "id": "2a2f1205-b575-475c-8cec-2944390ff2a3",
   "metadata": {
    "scrolled": true
   },
   "outputs": [
    {
     "name": "stdout",
     "output_type": "stream",
     "text": [
      "La moyenne des valeurs E_y_value est : 2321.025357142857\n"
     ]
    }
   ],
   "source": [
    "market_region = premise_ds.iloc[iRow][\"Market group location\"]\n",
    "\n",
    "coordonnees_region = coord.loc[coord['Short name'] == market_region, ['Latitude', 'Longitude']]\n",
    "#coordonnees_region\n",
    "E_y_values_list = []\n",
    "\n",
    "for index, row in coordonnees_region.iterrows():\n",
    "    # Extraire les valeurs de latitude et de longitude de la ligne actuelle\n",
    "    lat = \"lat=\"+\"{:.2f}\".format(row['Latitude'])+\"&\"\n",
    "    lon = \"lon=\"+\"{:.2f}\".format(row['Longitude'])\n",
    "    url_test = base_url_coord+lat+lon+p1+str(peakpower)+p2+pvtechchoice+p3+mountingplace+p4+angle+p5+optimalinclination+mp\n",
    "    # print(url_test)\n",
    "    response_test = requests.get(url_test)\n",
    "    # print(response_test)\n",
    "    jsondata_test = response_test.json()\n",
    "    if response_test.status_code == 200:\n",
    "        # print(\"Success\")\n",
    "        jsondata_test = response_test.json()\n",
    "        # Stocker la valeur E_y_value dans la liste\n",
    "        E_y_values_list.append(jsondata_test[\"outputs\"][\"totals\"][\"fixed\"][\"E_y\"])\n",
    "\n",
    "# Créer un DataFrame à partir de la liste des valeurs E_y_value\n",
    "E_y_df = pd.DataFrame({'E_y_value': E_y_values_list})\n",
    "\n",
    "# Calculer la moyenne des valeurs E_y_value\n",
    "moyenne_E_y = E_y_df['E_y_value'].mean()\n",
    "\n",
    "# Afficher la moyenne\n",
    "print(\"La moyenne des valeurs E_y_value est :\", moyenne_E_y)"
   ]
  },
  {
   "cell_type": "code",
   "execution_count": 5,
   "id": "2bd2751e-ba11-4bf3-8e8d-af2f93f43897",
   "metadata": {},
   "outputs": [
    {
     "data": {
      "text/plain": [
       "nan"
      ]
     },
     "execution_count": 5,
     "metadata": {},
     "output_type": "execute_result"
    }
   ],
   "source": [
    "market_region = premise_ds.iloc[0][\"Market group location\"]\n",
    "market_region"
   ]
  },
  {
   "cell_type": "code",
   "execution_count": 46,
   "id": "2125ef87-5235-4837-b2c5-4e309f28b768",
   "metadata": {},
   "outputs": [
    {
     "name": "stdout",
     "output_type": "stream",
     "text": [
      "NaN\n",
      "NaN\n",
      "La moyenne des valeurs E_y_value est : 5235.092333333333\n",
      "La moyenne des valeurs E_y_value est : 5235.092333333333\n",
      "La moyenne des valeurs E_y_value est : 4906.191\n"
     ]
    },
    {
     "ename": "IndexError",
     "evalue": "single positional indexer is out-of-bounds",
     "output_type": "error",
     "traceback": [
      "\u001b[1;31m---------------------------------------------------------------------------\u001b[0m",
      "\u001b[1;31mIndexError\u001b[0m                                Traceback (most recent call last)",
      "Cell \u001b[1;32mIn[46], line 5\u001b[0m\n\u001b[0;32m      3\u001b[0m \u001b[38;5;28;01mwhile\u001b[39;00m iRow \u001b[38;5;241m<\u001b[39m\u001b[38;5;241m5\u001b[39m:\n\u001b[0;32m      4\u001b[0m     \u001b[38;5;28;01mfor\u001b[39;00m index, row \u001b[38;5;129;01min\u001b[39;00m df\u001b[38;5;241m.\u001b[39miterrows():\n\u001b[1;32m----> 5\u001b[0m         \u001b[38;5;28;01mif\u001b[39;00m \u001b[38;5;28mstr\u001b[39m(\u001b[43mpv_pickle\u001b[49m\u001b[38;5;241;43m.\u001b[39;49m\u001b[43miloc\u001b[49m\u001b[43m[\u001b[49m\u001b[43miRow\u001b[49m\u001b[43m]\u001b[49m[\u001b[38;5;124m\"\u001b[39m\u001b[38;5;124mMarket group location\u001b[39m\u001b[38;5;124m\"\u001b[39m]) \u001b[38;5;241m==\u001b[39m \u001b[38;5;124m\"\u001b[39m\u001b[38;5;124mnan\u001b[39m\u001b[38;5;124m\"\u001b[39m:\n\u001b[0;32m      6\u001b[0m                 \u001b[38;5;28mprint\u001b[39m(\u001b[38;5;124m\"\u001b[39m\u001b[38;5;124mNaN\u001b[39m\u001b[38;5;124m\"\u001b[39m)\n\u001b[0;32m      7\u001b[0m                 iRow \u001b[38;5;241m=\u001b[39m iRow\u001b[38;5;241m+\u001b[39m\u001b[38;5;241m1\u001b[39m\n",
      "File \u001b[1;32m~\\virtualenvs\\MPTEX-proj\\Lib\\site-packages\\pandas\\core\\indexing.py:1191\u001b[0m, in \u001b[0;36m_LocationIndexer.__getitem__\u001b[1;34m(self, key)\u001b[0m\n\u001b[0;32m   1189\u001b[0m maybe_callable \u001b[38;5;241m=\u001b[39m com\u001b[38;5;241m.\u001b[39mapply_if_callable(key, \u001b[38;5;28mself\u001b[39m\u001b[38;5;241m.\u001b[39mobj)\n\u001b[0;32m   1190\u001b[0m maybe_callable \u001b[38;5;241m=\u001b[39m \u001b[38;5;28mself\u001b[39m\u001b[38;5;241m.\u001b[39m_check_deprecated_callable_usage(key, maybe_callable)\n\u001b[1;32m-> 1191\u001b[0m \u001b[38;5;28;01mreturn\u001b[39;00m \u001b[38;5;28;43mself\u001b[39;49m\u001b[38;5;241;43m.\u001b[39;49m\u001b[43m_getitem_axis\u001b[49m\u001b[43m(\u001b[49m\u001b[43mmaybe_callable\u001b[49m\u001b[43m,\u001b[49m\u001b[43m \u001b[49m\u001b[43maxis\u001b[49m\u001b[38;5;241;43m=\u001b[39;49m\u001b[43maxis\u001b[49m\u001b[43m)\u001b[49m\n",
      "File \u001b[1;32m~\\virtualenvs\\MPTEX-proj\\Lib\\site-packages\\pandas\\core\\indexing.py:1752\u001b[0m, in \u001b[0;36m_iLocIndexer._getitem_axis\u001b[1;34m(self, key, axis)\u001b[0m\n\u001b[0;32m   1749\u001b[0m     \u001b[38;5;28;01mraise\u001b[39;00m \u001b[38;5;167;01mTypeError\u001b[39;00m(\u001b[38;5;124m\"\u001b[39m\u001b[38;5;124mCannot index by location index with a non-integer key\u001b[39m\u001b[38;5;124m\"\u001b[39m)\n\u001b[0;32m   1751\u001b[0m \u001b[38;5;66;03m# validate the location\u001b[39;00m\n\u001b[1;32m-> 1752\u001b[0m \u001b[38;5;28;43mself\u001b[39;49m\u001b[38;5;241;43m.\u001b[39;49m\u001b[43m_validate_integer\u001b[49m\u001b[43m(\u001b[49m\u001b[43mkey\u001b[49m\u001b[43m,\u001b[49m\u001b[43m \u001b[49m\u001b[43maxis\u001b[49m\u001b[43m)\u001b[49m\n\u001b[0;32m   1754\u001b[0m \u001b[38;5;28;01mreturn\u001b[39;00m \u001b[38;5;28mself\u001b[39m\u001b[38;5;241m.\u001b[39mobj\u001b[38;5;241m.\u001b[39m_ixs(key, axis\u001b[38;5;241m=\u001b[39maxis)\n",
      "File \u001b[1;32m~\\virtualenvs\\MPTEX-proj\\Lib\\site-packages\\pandas\\core\\indexing.py:1685\u001b[0m, in \u001b[0;36m_iLocIndexer._validate_integer\u001b[1;34m(self, key, axis)\u001b[0m\n\u001b[0;32m   1683\u001b[0m len_axis \u001b[38;5;241m=\u001b[39m \u001b[38;5;28mlen\u001b[39m(\u001b[38;5;28mself\u001b[39m\u001b[38;5;241m.\u001b[39mobj\u001b[38;5;241m.\u001b[39m_get_axis(axis))\n\u001b[0;32m   1684\u001b[0m \u001b[38;5;28;01mif\u001b[39;00m key \u001b[38;5;241m>\u001b[39m\u001b[38;5;241m=\u001b[39m len_axis \u001b[38;5;129;01mor\u001b[39;00m key \u001b[38;5;241m<\u001b[39m \u001b[38;5;241m-\u001b[39mlen_axis:\n\u001b[1;32m-> 1685\u001b[0m     \u001b[38;5;28;01mraise\u001b[39;00m \u001b[38;5;167;01mIndexError\u001b[39;00m(\u001b[38;5;124m\"\u001b[39m\u001b[38;5;124msingle positional indexer is out-of-bounds\u001b[39m\u001b[38;5;124m\"\u001b[39m)\n",
      "\u001b[1;31mIndexError\u001b[0m: single positional indexer is out-of-bounds"
     ]
    }
   ],
   "source": [
    "pv_pickle = pv_pickle.head(5)\n",
    "iRow = 0\n",
    "while iRow <5:\n",
    "    for index, row in df.iterrows():\n",
    "        if str(pv_pickle.iloc[iRow][\"Market group location\"]) == \"nan\":\n",
    "                print(\"NaN\")\n",
    "                iRow = iRow+1\n",
    "        else:\n",
    "            peakpower = pv_pickle.iloc[iRow][\"Peak power (kWp)\"]\n",
    "            \n",
    "            Tech_pickle = pv_pickle.iloc[iRow][\"Technology\"]\n",
    "            pvtechchoice = (\"crystSi\" if \"Si\" in Tech_pickle\n",
    "                                else \"CIS\" if peakpower == \"CIS\"\n",
    "                                else \"CdTe\" if peakpower == \"CdTe\"\n",
    "                                else \"Unknown\")\n",
    "            \n",
    "            Mounting_pickle = pv_pickle.iloc[iRow][\"Installation\"]\n",
    "            mountingplace = (\"building\" if \"roof\" or \"facade\" in Mounting_pickle\n",
    "                                else \"free\")\n",
    "            \n",
    "            angle = (\"0\" if \"roof\" in Mounting_pickle\n",
    "                                else \"90\" if \"facade\" in Mounting_pickle\n",
    "                                else \"\")\n",
    "            \n",
    "            optimalinclination = (\"1\" if \"open ground\" in Mounting_pickle\n",
    "                                else \"\")\n",
    "            p1 = \"&peakpower=\"\n",
    "            p2 = \"&pvtechchoice=\"\n",
    "            p3 = \"&mountingplace=\"\n",
    "            p4 = \"&angle=\"\n",
    "            p5 = \"&optimalinclination=\"\n",
    "            mp = \"&loss=14&outputformat=json\"\n",
    "    \n",
    "            market_region = pv_pickle.iloc[iRow][\"Market group location\"]\n",
    "            \n",
    "            coordonnees_region = coord.loc[coord['Short name'] == market_region, ['Latitude', 'Longitude']]\n",
    "            #coordonnees_region\n",
    "            E_y_values_list = []\n",
    "            \n",
    "            for index, row in coordonnees_region.iterrows():\n",
    "                # Extraire les valeurs de latitude et de longitude de la ligne actuelle\n",
    "                lat = \"lat=\"+\"{:.2f}\".format(row['Latitude'])+\"&\"\n",
    "                lon = \"lon=\"+\"{:.2f}\".format(row['Longitude'])\n",
    "                url_test = base_url_coord+lat+lon+p1+str(peakpower)+p2+pvtechchoice+p3+mountingplace+p4+angle+p5+optimalinclination+mp\n",
    "                # print(url_test)\n",
    "                response_test = requests.get(url_test)\n",
    "                # print(response_test)\n",
    "                jsondata_test = response_test.json()\n",
    "                if response_test.status_code == 200:\n",
    "                    # print(\"Success\")\n",
    "                    jsondata_test = response_test.json()\n",
    "                    # Stocker la valeur E_y_value dans la liste\n",
    "                    E_y_values_list.append(jsondata_test[\"outputs\"][\"totals\"][\"fixed\"][\"E_y\"])\n",
    "            \n",
    "            moyenne_E_y = np.mean(E_y_values_list)\n",
    "            \n",
    "            # Afficher la moyenne\n",
    "            print(\"La moyenne des valeurs E_y_value est :\", moyenne_E_y)\n",
    "            iRow = iRow+1"
   ]
  },
  {
   "cell_type": "code",
   "execution_count": 49,
   "id": "ce051d85-9cb7-4f09-9374-0c9da25aeac5",
   "metadata": {},
   "outputs": [
    {
     "name": "stdout",
     "output_type": "stream",
     "text": [
      "['single-Si facade', 'single-Si flat-roof', 'single-Si slanted-roof', 'single-Si open ground', 'multi-Si facade', 'multi-Si flat-roof', 'multi-Si slanted-roof', 'multi-Si open ground', 'a-Si facade', 'a-Si flat-roof', 'a-Si slanted-roof', 'a-Si open ground', 'ribbon-Si facade', 'ribbon-Si flat-roof', 'ribbon-Si slanted-roof', 'ribbon-Si open ground', 'CIS facade', 'CIS flat-roof', 'CIS slanted-roof', 'CIS open ground', 'CdTe facade', 'CdTe flat-roof', 'CdTe slanted-roof', 'CdTe open ground']\n"
     ]
    }
   ],
   "source": [
    "# Ecoinvent technology : \"single-Si\", \"multi-Si\", \"a-Si\", \"ribbon-Si\", \"CIS\", \"CdTe\"\n",
    "# Ecoinvent mounting : \"facade\"-\"flat-roof\"-\"slanted-roof\" = building, \"open ground\" = free\n",
    "\n",
    "tech_list = [' single-Si', ' multi-Si', ' a-Si', ' ribbon-Si', ' CIS', ' CdTe']\n",
    "mounting_list = ['facade', 'flat-roof', 'slanted-roof', 'open ground']\n",
    "\n",
    "# Initialiser une troisième liste pour stocker les suites\n",
    "tech_mount_list = []\n",
    "\n",
    "# Boucle pour générer chaque suite et les stocker dans la troisième liste\n",
    "for element1 in tech_list:\n",
    "    for element2 in mounting_list:\n",
    "        suite = element1 +\" \"+ element2\n",
    "        tech_mount_list.append(suite)\n",
    "\n",
    "# Afficher les suites stockées dans la troisième liste\n",
    "print(tech_mount_list)\n"
   ]
  },
  {
   "cell_type": "code",
   "execution_count": 52,
   "id": "18e8937d-1892-4cde-99cf-35af8ee6f658",
   "metadata": {},
   "outputs": [
    {
     "data": {
      "text/plain": [
       "' single-Si slanted-roof '"
      ]
     },
     "execution_count": 52,
     "metadata": {},
     "output_type": "execute_result"
    }
   ],
   "source": [
    "Tech_pickle = pv_pickle.iloc[0][\"Technology\"]\n",
    "Mounting_pickle = pv_pickle.iloc[0][\"Installation\"]\n",
    "\n",
    "parameter_combination = Tech_pickle + Mounting_pickle\n",
    "parameter_combination"
   ]
  },
  {
   "cell_type": "code",
   "execution_count": null,
   "id": "cd39d245-94b1-4dd2-a1d2-a931b2468156",
   "metadata": {},
   "outputs": [],
   "source": []
  }
 ],
 "metadata": {
  "kernelspec": {
   "display_name": "Python 3 (ipykernel)",
   "language": "python",
   "name": "python3"
  },
  "language_info": {
   "codemirror_mode": {
    "name": "ipython",
    "version": 3
   },
   "file_extension": ".py",
   "mimetype": "text/x-python",
   "name": "python",
   "nbconvert_exporter": "python",
   "pygments_lexer": "ipython3",
   "version": "3.12.3"
  }
 },
 "nbformat": 4,
 "nbformat_minor": 5
}
