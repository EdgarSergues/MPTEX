{
 "cells": [
  {
   "cell_type": "markdown",
   "id": "314fd198-a2a3-4aa4-92a0-0ee84bdf4e3d",
   "metadata": {},
   "source": [
    "## Library imports"
   ]
  },
  {
   "cell_type": "code",
   "execution_count": null,
   "id": "032e0ce1-40c9-4460-98a5-8721c822033a",
   "metadata": {},
   "outputs": [],
   "source": [
    "from premise import *\n",
    "import bw2data as bd\n",
    "import bw2io as bo\n",
    "import xarray as xr"
   ]
  },
  {
   "cell_type": "markdown",
   "id": "a79fb316-e82b-46d5-bb36-3214168a1520",
   "metadata": {},
   "source": [
    "## Data imports"
   ]
  },
  {
   "cell_type": "code",
   "execution_count": null,
   "id": "bbeae349-977d-4d7e-b6dd-ef2d9b796f74",
   "metadata": {},
   "outputs": [],
   "source": [
    "coord = pd.read_csv(\"Coordinate_unique.csv\")"
   ]
  },
  {
   "cell_type": "code",
   "execution_count": null,
   "id": "f46ebf98-f1c9-4ae4-8703-b22670ea66de",
   "metadata": {},
   "outputs": [],
   "source": [
    "DAC_inputs = {\n",
    "    \"Electricity\": {\n",
    "        2020: 0.345,\n",
    "        2025: 0.319,\n",
    "        2030: 0.311,\n",
    "        2035: 0.307,\n",
    "        2040: 0.304,\n",
    "        2045: 0.301,\n",
    "        2050: 0.299\n",
    "    },\n",
    "    \"Heat\": {\n",
    "        2020: 6.28,\n",
    "        2025: 5.81,\n",
    "        2030: 5.67,\n",
    "        2035: 5.58,\n",
    "        2040: 5.53,\n",
    "        2045: 5.48,\n",
    "        2050: 5.44\n",
    "    },\n",
    "\n",
    "}\n",
    "\n",
    "# Convert dictionaries into an xarray Dataset\n",
    "years = list(DAC_inputs['Electricity'].keys())\n",
    "electricity_values = list(DAC_inputs['Electricity'].values())\n",
    "heat_values = list(DAC_inputs['Heat'].values())\n",
    "\n",
    "dataset = xr.Dataset({\n",
    "    'Electricity': ('Year', electricity_values),\n",
    "    'Heat': ('Year', heat_values),\n",
    "}, coords={'Year': years})"
   ]
  },
  {
   "cell_type": "markdown",
   "id": "cbe0c31a-90d4-41da-bb09-7bc45e83e47f",
   "metadata": {},
   "source": [
    "## Brightway project set up"
   ]
  },
  {
   "cell_type": "code",
   "execution_count": null,
   "id": "417bd5a3-0ba7-4abe-a183-45f9ce645b09",
   "metadata": {},
   "outputs": [],
   "source": [
    "bd.projects.set_current(\"MPTEX_demo\")"
   ]
  },
  {
   "cell_type": "code",
   "execution_count": null,
   "id": "d2842e11-9190-49ab-8df4-4d64566ffa63",
   "metadata": {},
   "outputs": [],
   "source": [
    "bo.bw2setup()"
   ]
  },
  {
   "cell_type": "code",
   "execution_count": null,
   "id": "bac7a7fe-df28-4567-bde2-c9bbf1e840b1",
   "metadata": {},
   "outputs": [],
   "source": [
    "bd.databases"
   ]
  },
  {
   "cell_type": "code",
   "execution_count": null,
   "id": "5c680b37-a11a-4baf-ac4d-27f5b4c1b7c6",
   "metadata": {},
   "outputs": [],
   "source": [
    "# file path to the place with the ecoinvent spold files (datasets directory)\n",
    "fpei39 = \"/etc/data/ecospold/datasets\"\n",
    "if 'ecoinvent 3.9.1 cutoff' in bd.databases:\n",
    "    print(\"Database has already been imported\")\n",
    "else:\n",
    "    ei39 = bo.SingleOutputEcospold2Importer(fpei39, 'ecoinvent 3.9.1 cutoff')\n",
    "    ei39.apply_strategies()\n",
    "    ei39.statistics()\n",
    "    \n",
    "    if len(list(ei39.unlinked)) == 0:\n",
    "        ei39.write_database()"
   ]
  },
  {
   "cell_type": "markdown",
   "id": "46ef43b7-842f-49ce-b7e6-7ce9a6ac114c",
   "metadata": {},
   "source": [
    "### Create the desired premise scenarios"
   ]
  },
  {
   "cell_type": "code",
   "execution_count": null,
   "id": "24cf5e03-4f63-496d-98db-b798a056c00d",
   "metadata": {},
   "outputs": [],
   "source": [
    "ndb = NewDatabase(\n",
    "    scenarios=[\n",
    "        {\"model\":\"image\", \"pathway\":\"SSP2-RCP19\", \"year\":2029},\n",
    "        #{\"model\":\"image\", \"pathway\":\"SSP2-RCP19\", \"year\":2030},\n",
    "        #{\"model\":\"image\", \"pathway\":\"SSP2-RCP19\", \"year\":2050},\n",
    "        #{\"model\":\"remind\",\"pathway\":\"SSP2-Base\",\"year\":2039}\n",
    "    ],\n",
    "    source_db=\"ecoinvent 3.9.1 cutoff\", # <-- name of the database in the BW2 project. Must be a string.\n",
    "    source_version=\"3.9\", # <-- version of ecoinvent. Can be \"3.5\", \"3.6\", \"3.7\" or \"3.8\". Must be a string.\n",
    "    key='tUePmX_S5B8ieZkkM7WUU2CnO8SmShwmAeWK9x2rTFo=' # <-- decryption key\n",
    "    # to be requested from the library maintainers if you want ot use default scenarios included in `premise`\n",
    ")"
   ]
  },
  {
   "cell_type": "code",
   "execution_count": null,
   "id": "12d13269-0d5d-4e67-9f0a-536dbc1419e4",
   "metadata": {},
   "outputs": [],
   "source": [
    "ndb.update()"
   ]
  },
  {
   "cell_type": "code",
   "execution_count": null,
   "id": "21b8be4c-3bef-49f8-b3e5-12c47fd32adb",
   "metadata": {},
   "outputs": [],
   "source": [
    "#Save as a database\n",
    "ndb.write_db_to_brightway(name=[\"image-SSP2-RCP19-2029\",])"
   ]
  },
  {
   "cell_type": "markdown",
   "id": "760dc932-78fd-4b5b-b937-adee2e5fd489",
   "metadata": {},
   "source": [
    "## User input variables"
   ]
  },
  {
   "cell_type": "code",
   "execution_count": null,
   "id": "a49c8ee3-2a85-4301-a8c5-6b1c4c417ee8",
   "metadata": {},
   "outputs": [],
   "source": [
    "db_name = 'image-SSP2-RCP19-2029'\n",
    "year = 2029\n",
    "DAC_ds_name = 'carbon dioxide, captured from atmosphere, with a solvent-based direct air capture system, 1MtCO2'\n",
    "LCIA_method = ('IPCC 2021', 'climate change: biogenic', 'global warming potential (GWP100)')"
   ]
  },
  {
   "cell_type": "markdown",
   "id": "aa175b2e-d248-49d1-b8b9-69211335c027",
   "metadata": {},
   "source": [
    "### Update PV data"
   ]
  },
  {
   "cell_type": "code",
   "execution_count": null,
   "id": "4b0fc7ba-a063-4737-bb18-20811ba17d11",
   "metadata": {},
   "outputs": [],
   "source": [
    "pv_datasets = pv_market_mixes_identifier(db_name)    \n",
    "display(pv_datasets)"
   ]
  },
  {
   "cell_type": "code",
   "execution_count": null,
   "id": "59357a1c-305e-47b8-9277-74073d0a6b58",
   "metadata": {},
   "outputs": [],
   "source": [
    "pv_updated_ds = add_custom_production_data_to_df(pv_datasets, generate_pv_prod_data(coord))"
   ]
  },
  {
   "cell_type": "code",
   "execution_count": null,
   "id": "4d08a674-cd59-4a3f-8c4b-5c9cfb84cb5e",
   "metadata": {},
   "outputs": [],
   "source": [
    "pv_datasets1 = update_pv_efficiencies(db_name,pv_updated_ds)\n",
    "display(pv_datasets1)"
   ]
  },
  {
   "cell_type": "markdown",
   "id": "a9129e37-eac2-4741-a5c1-484b6648461e",
   "metadata": {},
   "source": [
    "### Update DAC datasets"
   ]
  },
  {
   "cell_type": "code",
   "execution_count": null,
   "id": "e4485fa2-3f09-4d6f-b0fd-47d1ab5a29c1",
   "metadata": {},
   "outputs": [],
   "source": [
    "update_DAC_efficiencies(db_name,year)\n",
    "#generate_new_DAC_inventories(db_name)"
   ]
  },
  {
   "cell_type": "markdown",
   "id": "25a2d461-033e-42d1-9845-cb9c1306cef0",
   "metadata": {},
   "source": [
    "### Run an LCA"
   ]
  },
  {
   "cell_type": "code",
   "execution_count": null,
   "id": "58a91e34-c5dc-4619-9382-55296b76e1f8",
   "metadata": {},
   "outputs": [],
   "source": [
    "DAC_list = []\n",
    "\n",
    "# Get a DAC dataset\n",
    "for ds in bd.Database(db_name): \n",
    "    if ds['name'] == DAC_ds_name:\n",
    "        DAC_list.append((db_name,ds['code']))"
   ]
  },
  {
   "cell_type": "code",
   "execution_count": null,
   "id": "f7adfcd5-63b9-4181-83b4-7335fc94a359",
   "metadata": {},
   "outputs": [],
   "source": [
    "lca = bc.LCA(demand={DAC_list[0]: 1}, method=LCIA_method)\n",
    "lca.lci()\n",
    "lca.lcia()\n",
    "lca.score"
   ]
  }
 ],
 "metadata": {
  "kernelspec": {
   "display_name": "Python 3 (ipykernel)",
   "language": "python",
   "name": "python3"
  },
  "language_info": {
   "codemirror_mode": {
    "name": "ipython",
    "version": 3
   },
   "file_extension": ".py",
   "mimetype": "text/x-python",
   "name": "python",
   "nbconvert_exporter": "python",
   "pygments_lexer": "ipython3",
   "version": "3.10.10"
  }
 },
 "nbformat": 4,
 "nbformat_minor": 5
}
